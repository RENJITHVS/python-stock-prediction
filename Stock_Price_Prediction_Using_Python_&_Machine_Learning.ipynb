{
 "cells": [
  {
   "cell_type": "markdown",
   "metadata": {
    "id": "EysVRMHnywy-"
   },
   "source": [
    "[Stock Price Prediction Using Python & Machine Learning](https://www.youtube.com/watch?v=QIUxPv5PJOY)\n",
    "\n",
    "\n"
   ]
  },
  {
   "cell_type": "code",
   "execution_count": 38,
   "metadata": {
    "id": "JZWXonBfytaU"
   },
   "outputs": [],
   "source": [
    "import math\n",
    "import pandas_datareader as web\n",
    "import numpy as np\n",
    "import pandas as pd\n",
    "from sklearn.preprocessing import MinMaxScaler\n",
    "from keras.models import Sequential\n",
    "from keras.layers import Dense,LSTM\n",
    "import matplotlib.pyplot as plt\n",
    "plt.style.use('fivethirtyeight')\n"
   ]
  },
  {
   "cell_type": "code",
   "execution_count": 39,
   "metadata": {
    "id": "ozaoFvMpytdx"
   },
   "outputs": [],
   "source": [
    "df = web.DataReader('TITAN.NS',data_source='yahoo',start='2012-01-01',end='2022-05-08')"
   ]
  },
  {
   "cell_type": "code",
   "execution_count": 40,
   "metadata": {
    "colab": {
     "base_uri": "https://localhost:8080/",
     "height": 431
    },
    "id": "lCBdQHOmytjA",
    "outputId": "89b9be52-150d-418f-a576-4c7667717c5f"
   },
   "outputs": [
    {
     "data": {
      "text/html": [
       "<div>\n",
       "<style scoped>\n",
       "    .dataframe tbody tr th:only-of-type {\n",
       "        vertical-align: middle;\n",
       "    }\n",
       "\n",
       "    .dataframe tbody tr th {\n",
       "        vertical-align: top;\n",
       "    }\n",
       "\n",
       "    .dataframe thead th {\n",
       "        text-align: right;\n",
       "    }\n",
       "</style>\n",
       "<table border=\"1\" class=\"dataframe\">\n",
       "  <thead>\n",
       "    <tr style=\"text-align: right;\">\n",
       "      <th></th>\n",
       "      <th>High</th>\n",
       "      <th>Low</th>\n",
       "      <th>Open</th>\n",
       "      <th>Close</th>\n",
       "      <th>Volume</th>\n",
       "      <th>Adj Close</th>\n",
       "    </tr>\n",
       "    <tr>\n",
       "      <th>Date</th>\n",
       "      <th></th>\n",
       "      <th></th>\n",
       "      <th></th>\n",
       "      <th></th>\n",
       "      <th></th>\n",
       "      <th></th>\n",
       "    </tr>\n",
       "  </thead>\n",
       "  <tbody>\n",
       "    <tr>\n",
       "      <th>2012-01-02</th>\n",
       "      <td>177.000000</td>\n",
       "      <td>171.350006</td>\n",
       "      <td>171.600006</td>\n",
       "      <td>175.149994</td>\n",
       "      <td>3717480.0</td>\n",
       "      <td>164.280106</td>\n",
       "    </tr>\n",
       "    <tr>\n",
       "      <th>2012-01-03</th>\n",
       "      <td>180.649994</td>\n",
       "      <td>176.500000</td>\n",
       "      <td>176.500000</td>\n",
       "      <td>179.550003</td>\n",
       "      <td>3552588.0</td>\n",
       "      <td>168.407043</td>\n",
       "    </tr>\n",
       "    <tr>\n",
       "      <th>2012-01-04</th>\n",
       "      <td>184.399994</td>\n",
       "      <td>175.600006</td>\n",
       "      <td>180.000000</td>\n",
       "      <td>177.800003</td>\n",
       "      <td>3670612.0</td>\n",
       "      <td>166.765656</td>\n",
       "    </tr>\n",
       "    <tr>\n",
       "      <th>2012-01-05</th>\n",
       "      <td>181.699997</td>\n",
       "      <td>174.050003</td>\n",
       "      <td>178.949997</td>\n",
       "      <td>176.449997</td>\n",
       "      <td>2736557.0</td>\n",
       "      <td>165.499435</td>\n",
       "    </tr>\n",
       "    <tr>\n",
       "      <th>2012-01-06</th>\n",
       "      <td>176.449997</td>\n",
       "      <td>170.500000</td>\n",
       "      <td>175.250000</td>\n",
       "      <td>172.899994</td>\n",
       "      <td>2948089.0</td>\n",
       "      <td>162.169739</td>\n",
       "    </tr>\n",
       "    <tr>\n",
       "      <th>...</th>\n",
       "      <td>...</td>\n",
       "      <td>...</td>\n",
       "      <td>...</td>\n",
       "      <td>...</td>\n",
       "      <td>...</td>\n",
       "      <td>...</td>\n",
       "    </tr>\n",
       "    <tr>\n",
       "      <th>2022-04-29</th>\n",
       "      <td>2532.000000</td>\n",
       "      <td>2450.000000</td>\n",
       "      <td>2521.000000</td>\n",
       "      <td>2458.199951</td>\n",
       "      <td>1496781.0</td>\n",
       "      <td>2458.199951</td>\n",
       "    </tr>\n",
       "    <tr>\n",
       "      <th>2022-05-02</th>\n",
       "      <td>2437.000000</td>\n",
       "      <td>2372.350098</td>\n",
       "      <td>2435.000000</td>\n",
       "      <td>2386.550049</td>\n",
       "      <td>1287401.0</td>\n",
       "      <td>2386.550049</td>\n",
       "    </tr>\n",
       "    <tr>\n",
       "      <th>2022-05-04</th>\n",
       "      <td>2407.000000</td>\n",
       "      <td>2275.000000</td>\n",
       "      <td>2356.000000</td>\n",
       "      <td>2289.949951</td>\n",
       "      <td>2357806.0</td>\n",
       "      <td>2289.949951</td>\n",
       "    </tr>\n",
       "    <tr>\n",
       "      <th>2022-05-05</th>\n",
       "      <td>2309.000000</td>\n",
       "      <td>2252.149902</td>\n",
       "      <td>2309.000000</td>\n",
       "      <td>2262.000000</td>\n",
       "      <td>2118580.0</td>\n",
       "      <td>2262.000000</td>\n",
       "    </tr>\n",
       "    <tr>\n",
       "      <th>2022-05-06</th>\n",
       "      <td>2240.000000</td>\n",
       "      <td>2195.449951</td>\n",
       "      <td>2240.000000</td>\n",
       "      <td>2208.750000</td>\n",
       "      <td>1465486.0</td>\n",
       "      <td>2208.750000</td>\n",
       "    </tr>\n",
       "  </tbody>\n",
       "</table>\n",
       "<p>2549 rows × 6 columns</p>\n",
       "</div>"
      ],
      "text/plain": [
       "                   High          Low         Open        Close     Volume  \\\n",
       "Date                                                                        \n",
       "2012-01-02   177.000000   171.350006   171.600006   175.149994  3717480.0   \n",
       "2012-01-03   180.649994   176.500000   176.500000   179.550003  3552588.0   \n",
       "2012-01-04   184.399994   175.600006   180.000000   177.800003  3670612.0   \n",
       "2012-01-05   181.699997   174.050003   178.949997   176.449997  2736557.0   \n",
       "2012-01-06   176.449997   170.500000   175.250000   172.899994  2948089.0   \n",
       "...                 ...          ...          ...          ...        ...   \n",
       "2022-04-29  2532.000000  2450.000000  2521.000000  2458.199951  1496781.0   \n",
       "2022-05-02  2437.000000  2372.350098  2435.000000  2386.550049  1287401.0   \n",
       "2022-05-04  2407.000000  2275.000000  2356.000000  2289.949951  2357806.0   \n",
       "2022-05-05  2309.000000  2252.149902  2309.000000  2262.000000  2118580.0   \n",
       "2022-05-06  2240.000000  2195.449951  2240.000000  2208.750000  1465486.0   \n",
       "\n",
       "              Adj Close  \n",
       "Date                     \n",
       "2012-01-02   164.280106  \n",
       "2012-01-03   168.407043  \n",
       "2012-01-04   166.765656  \n",
       "2012-01-05   165.499435  \n",
       "2012-01-06   162.169739  \n",
       "...                 ...  \n",
       "2022-04-29  2458.199951  \n",
       "2022-05-02  2386.550049  \n",
       "2022-05-04  2289.949951  \n",
       "2022-05-05  2262.000000  \n",
       "2022-05-06  2208.750000  \n",
       "\n",
       "[2549 rows x 6 columns]"
      ]
     },
     "execution_count": 40,
     "metadata": {},
     "output_type": "execute_result"
    }
   ],
   "source": [
    "df"
   ]
  },
  {
   "cell_type": "code",
   "execution_count": 41,
   "metadata": {
    "colab": {
     "base_uri": "https://localhost:8080/",
     "height": 34
    },
    "id": "W-tpJeHSytm2",
    "outputId": "4361bcf6-cdea-4577-b3a3-1dd68acba616"
   },
   "outputs": [
    {
     "data": {
      "text/plain": [
       "(2549, 6)"
      ]
     },
     "execution_count": 41,
     "metadata": {},
     "output_type": "execute_result"
    }
   ],
   "source": [
    "df.shape"
   ]
  },
  {
   "cell_type": "code",
   "execution_count": 42,
   "metadata": {
    "colab": {
     "base_uri": "https://localhost:8080/",
     "height": 558
    },
    "id": "lMGYLSSzzols",
    "outputId": "b613d531-6e0c-4169-b62d-5a5b6a6fe570"
   },
   "outputs": [
    {
     "data": {
      "image/png": "[encoded data removed]",
      "text/plain": [
       "<Figure size 1152x576 with 1 Axes>"
      ]
     },
     "metadata": {},
     "output_type": "display_data"
    }
   ],
   "source": [
    "plt.figure(figsize=(16,8))\n",
    "plt.title('Close Price History')\n",
    "plt.plot(df['Close'])\n",
    "plt.xlabel('Date',fontsize=18)\n",
    "plt.ylabel('Close Price INR',fontsize=18)\n",
    "plt.show()"
   ]
  },
  {
   "cell_type": "code",
   "execution_count": 43,
   "metadata": {
    "colab": {
     "base_uri": "https://localhost:8080/",
     "height": 140
    },
    "id": "7ODfKsz9zonj",
    "outputId": "37cbcc72-bced-42d5-d8d7-2f00134ad416"
   },
   "outputs": [
    {
     "data": {
      "text/plain": [
       "array([[0.00088588],\n",
       "       [0.00261827],\n",
       "       [0.00192925],\n",
       "       ...,\n",
       "       [0.83353346],\n",
       "       [0.82252889],\n",
       "       [0.80156308]])"
      ]
     },
     "execution_count": 43,
     "metadata": {},
     "output_type": "execute_result"
    }
   ],
   "source": [
    "data=df.filter(['Close'])\n",
    "dataset=data.values\n",
    "training_data_len= math.ceil(len(dataset) * .8)\n",
    "\n",
    "#scale the data\n",
    "scaler=MinMaxScaler(feature_range=(0,1))\n",
    "scaled_data=scaler.fit_transform(dataset)\n",
    "\n",
    "scaled_data"
   ]
  },
  {
   "cell_type": "code",
   "execution_count": 44,
   "metadata": {
    "colab": {
     "base_uri": "https://localhost:8080/",
     "height": 263
    },
    "id": "tvlvLyoizoq4",
    "outputId": "2e592da3-5621-40b1-db3a-375de3dd8008"
   },
   "outputs": [
    {
     "name": "stdout",
     "output_type": "stream",
     "text": [
      "[array([0.00088588, 0.00261827, 0.00192925, 0.00139772, 0.        ,\n",
      "       0.00104337, 0.00313011, 0.0042916 , 0.00444908, 0.00389787,\n",
      "       0.00450815, 0.00460658, 0.00431128, 0.00374038, 0.00748076,\n",
      "       0.00728389, 0.00752013, 0.0098431 , 0.01320944, 0.01124082,\n",
      "       0.0118511 , 0.00917377, 0.00850444, 0.00937063, 0.01000059,\n",
      "       0.01074867, 0.01411501, 0.01482371, 0.0134063 , 0.01415438,\n",
      "       0.01425281, 0.01771758, 0.01679233, 0.02324941, 0.02793473,\n",
      "       0.02094612, 0.02059177, 0.02090675, 0.01728449, 0.02057208,\n",
      "       0.02185168, 0.02202886, 0.02228478, 0.02009961, 0.02279663,\n",
      "       0.02303286, 0.0263992 , 0.0288206 , 0.0293915 , 0.02954899,\n",
      "       0.02334784, 0.02385968, 0.02443058, 0.02791504, 0.02756068,\n",
      "       0.02389905, 0.02336752, 0.02202886, 0.02559206, 0.02002087])]\n",
      "[0.02189105890895257]\n",
      "\n"
     ]
    }
   ],
   "source": [
    "#Create training data set\n",
    "\n",
    "train_data=scaled_data[0:training_data_len,:]\n",
    "\n",
    "#split the data into x_train and y_train data sets\n",
    "\n",
    "x_train =[]\n",
    "y_train=[]\n",
    "\n",
    "################### 過去６０日分のデータでYを説明する、という形##################\n",
    "for i in range(60,len(train_data)):\n",
    "  x_train.append(train_data[i-60:i,0])\n",
    "  y_train.append(train_data[i,0])\n",
    "  if i<=60:\n",
    "\n",
    "    print(x_train)\n",
    "    print(y_train)\n",
    "    print()"
   ]
  },
  {
   "cell_type": "code",
   "execution_count": 45,
   "metadata": {
    "colab": {
     "base_uri": "https://localhost:8080/",
     "height": 34
    },
    "id": "fAi0qySGzoj2",
    "outputId": "7ffd6e81-df14-4bd2-fb6c-f4fbcbe8f3b3"
   },
   "outputs": [
    {
     "data": {
      "text/plain": [
       "(1980, 60)"
      ]
     },
     "execution_count": 45,
     "metadata": {},
     "output_type": "execute_result"
    }
   ],
   "source": [
    "#convert train data to numpy arrays\n",
    "x_train,y_train=np.array(x_train),np.array(y_train)\n",
    "\n",
    "#Reshape\n",
    "x_train.shape"
   ]
  },
  {
   "cell_type": "code",
   "execution_count": 46,
   "metadata": {
    "colab": {
     "base_uri": "https://localhost:8080/",
     "height": 34
    },
    "id": "FvsPzNnv3JCP",
    "outputId": "9e5b6966-bd26-4ff9-aa98-689a2b6d05b3"
   },
   "outputs": [
    {
     "data": {
      "text/plain": [
       "(1980, 60, 1)"
      ]
     },
     "execution_count": 46,
     "metadata": {},
     "output_type": "execute_result"
    }
   ],
   "source": [
    "x_train=np.reshape(x_train,(x_train.shape[0],x_train.shape[1],1))\n",
    "x_train.shape"
   ]
  },
  {
   "cell_type": "code",
   "execution_count": 47,
   "metadata": {
    "id": "p6qzB8J_3JFY"
   },
   "outputs": [],
   "source": [
    "# build LSTM model\n",
    "model=Sequential()\n",
    "model.add(LSTM(50,return_sequences=True,input_shape=(x_train.shape[1],1)))\n",
    "model.add(LSTM(50,return_sequences=False))\n",
    "model.add(Dense(25))\n",
    "model.add(Dense(1))\n"
   ]
  },
  {
   "cell_type": "code",
   "execution_count": 49,
   "metadata": {
    "id": "dgAZuAq23JMo"
   },
   "outputs": [],
   "source": [
    "#copile the model\n",
    "model.compile(optimizer='adam',loss='mean_squared_error')\n"
   ]
  },
  {
   "cell_type": "code",
   "execution_count": 50,
   "metadata": {
    "colab": {
     "base_uri": "https://localhost:8080/",
     "height": 70
    },
    "id": "ZWyCt15l3JLh",
    "outputId": "7e9505d6-8353-4edf-dca7-7853c03a8f02"
   },
   "outputs": [
    {
     "name": "stdout",
     "output_type": "stream",
     "text": [
      "1980/1980 [==============================] - 30s 14ms/step - loss: 5.7982e-04\n"
     ]
    },
    {
     "data": {
      "text/plain": [
       "<keras.callbacks.History at 0x7f523b7fd880>"
      ]
     },
     "execution_count": 50,
     "metadata": {},
     "output_type": "execute_result"
    }
   ],
   "source": [
    "#train the model\n",
    "model.fit(x_train,y_train,batch_size=1,epochs=1)"
   ]
  },
  {
   "cell_type": "code",
   "execution_count": 51,
   "metadata": {},
   "outputs": [],
   "source": [
    "model.save('keras_model.h5')"
   ]
  },
  {
   "cell_type": "code",
   "execution_count": 52,
   "metadata": {
    "id": "jKmzHwaD4ydR"
   },
   "outputs": [],
   "source": [
    "#create the testing data set\n",
    "#create a new array containing scaled values from index 1543 to 2003\n",
    "test_data=scaled_data[training_data_len - 60:,:]\n",
    "#create the data sets x_test and y_test\n",
    "x_test=[]\n",
    "y_test=dataset[training_data_len:,:]\n",
    "for i in range(60,len(test_data)):\n",
    "  x_test.append(test_data[i-60:i,0])\n",
    "  "
   ]
  },
  {
   "cell_type": "code",
   "execution_count": 53,
   "metadata": {
    "id": "yjtXbyQ64yfy"
   },
   "outputs": [],
   "source": [
    "#convert the data to a numpy array\n",
    "x_test=np.array(x_test)\n",
    "#reshape\n",
    "x_test=np.reshape(x_test,(x_test.shape[0],x_test.shape[1],1))\n"
   ]
  },
  {
   "cell_type": "code",
   "execution_count": 54,
   "metadata": {
    "id": "UGPIAfGb4yla"
   },
   "outputs": [],
   "source": [
    "#get the models predicted price values\n",
    "predictions=model.predict(x_test)\n",
    "predictions=scaler.inverse_transform(predictions)\n"
   ]
  },
  {
   "cell_type": "code",
   "execution_count": 55,
   "metadata": {
    "colab": {
     "base_uri": "https://localhost:8080/",
     "height": 34
    },
    "id": "4DFTeGAk4yqI",
    "outputId": "2d2416e2-64cb-4146-b4e4-f02c4defe4dd"
   },
   "outputs": [
    {
     "data": {
      "text/plain": [
       "149.0042144435106"
      ]
     },
     "execution_count": 55,
     "metadata": {},
     "output_type": "execute_result"
    }
   ],
   "source": [
    "#Get the root mean squared error(RMSE)\n",
    "rmse=np.sqrt( np.mean((predictions - y_test)**2))\n",
    "rmse"
   ]
  },
  {
   "cell_type": "code",
   "execution_count": 56,
   "metadata": {
    "colab": {
     "base_uri": "https://localhost:8080/",
     "height": 664
    },
    "id": "3qn1_DMBytqQ",
    "outputId": "1d66050e-d0ff-487d-ea2a-0b47e4191db9"
   },
   "outputs": [
    {
     "name": "stderr",
     "output_type": "stream",
     "text": [
      "/tmp/ipykernel_73518/3644969146.py:3: SettingWithCopyWarning: \n",
      "A value is trying to be set on a copy of a slice from a DataFrame.\n",
      "Try using .loc[row_indexer,col_indexer] = value instead\n",
      "\n",
      "See the caveats in the documentation: https://pandas.pydata.org/pandas-docs/stable/user_guide/indexing.html#returning-a-view-versus-a-copy\n",
      "  valid['Predictions']=predictions\n"
     ]
    },
    {
     "data": {
      "image/png": "[encoded data removed]",
      "text/plain": [
       "<Figure size 1152x576 with 1 Axes>"
      ]
     },
     "metadata": {},
     "output_type": "display_data"
    }
   ],
   "source": [
    "train=data[:training_data_len]\n",
    "valid=data[training_data_len:]\n",
    "valid['Predictions']=predictions\n",
    "\n",
    "#visualize the data\n",
    "plt.figure(figsize=(16,8))\n",
    "plt.title('Model')\n",
    "plt.xlabel('Date',fontsize=18)\n",
    "plt.ylabel('Close Price INR',fontsize=18)\n",
    "plt.plot(train['Close'])\n",
    "plt.plot(valid[['Close','Predictions']])\n",
    "plt.legend(['Train','Val','Predictions'],loc='lower right')\n",
    "plt.show()"
   ]
  },
  {
   "cell_type": "code",
   "execution_count": 57,
   "metadata": {
    "colab": {
     "base_uri": "https://localhost:8080/",
     "height": 431
    },
    "id": "Ruvb5t27yts_",
    "outputId": "ee1e6b02-87ca-4992-bc45-e070b19cccf0"
   },
   "outputs": [
    {
     "data": {
      "text/html": [
       "<div>\n",
       "<style scoped>\n",
       "    .dataframe tbody tr th:only-of-type {\n",
       "        vertical-align: middle;\n",
       "    }\n",
       "\n",
       "    .dataframe tbody tr th {\n",
       "        vertical-align: top;\n",
       "    }\n",
       "\n",
       "    .dataframe thead th {\n",
       "        text-align: right;\n",
       "    }\n",
       "</style>\n",
       "<table border=\"1\" class=\"dataframe\">\n",
       "  <thead>\n",
       "    <tr style=\"text-align: right;\">\n",
       "      <th></th>\n",
       "      <th>Close</th>\n",
       "      <th>Predictions</th>\n",
       "    </tr>\n",
       "    <tr>\n",
       "      <th>Date</th>\n",
       "      <th></th>\n",
       "      <th></th>\n",
       "    </tr>\n",
       "  </thead>\n",
       "  <tbody>\n",
       "    <tr>\n",
       "      <th>2020-04-22</th>\n",
       "      <td>951.400024</td>\n",
       "      <td>957.438660</td>\n",
       "    </tr>\n",
       "    <tr>\n",
       "      <th>2020-04-23</th>\n",
       "      <td>912.599976</td>\n",
       "      <td>955.423523</td>\n",
       "    </tr>\n",
       "    <tr>\n",
       "      <th>2020-04-24</th>\n",
       "      <td>906.049988</td>\n",
       "      <td>948.816528</td>\n",
       "    </tr>\n",
       "    <tr>\n",
       "      <th>2020-04-27</th>\n",
       "      <td>927.750000</td>\n",
       "      <td>939.992126</td>\n",
       "    </tr>\n",
       "    <tr>\n",
       "      <th>2020-04-28</th>\n",
       "      <td>932.849976</td>\n",
       "      <td>933.421631</td>\n",
       "    </tr>\n",
       "    <tr>\n",
       "      <th>...</th>\n",
       "      <td>...</td>\n",
       "      <td>...</td>\n",
       "    </tr>\n",
       "    <tr>\n",
       "      <th>2022-04-29</th>\n",
       "      <td>2458.199951</td>\n",
       "      <td>2260.495117</td>\n",
       "    </tr>\n",
       "    <tr>\n",
       "      <th>2022-05-02</th>\n",
       "      <td>2386.550049</td>\n",
       "      <td>2257.005371</td>\n",
       "    </tr>\n",
       "    <tr>\n",
       "      <th>2022-05-04</th>\n",
       "      <td>2289.949951</td>\n",
       "      <td>2243.999268</td>\n",
       "    </tr>\n",
       "    <tr>\n",
       "      <th>2022-05-05</th>\n",
       "      <td>2262.000000</td>\n",
       "      <td>2218.584473</td>\n",
       "    </tr>\n",
       "    <tr>\n",
       "      <th>2022-05-06</th>\n",
       "      <td>2208.750000</td>\n",
       "      <td>2188.508545</td>\n",
       "    </tr>\n",
       "  </tbody>\n",
       "</table>\n",
       "<p>509 rows × 2 columns</p>\n",
       "</div>"
      ],
      "text/plain": [
       "                  Close  Predictions\n",
       "Date                                \n",
       "2020-04-22   951.400024   957.438660\n",
       "2020-04-23   912.599976   955.423523\n",
       "2020-04-24   906.049988   948.816528\n",
       "2020-04-27   927.750000   939.992126\n",
       "2020-04-28   932.849976   933.421631\n",
       "...                 ...          ...\n",
       "2022-04-29  2458.199951  2260.495117\n",
       "2022-05-02  2386.550049  2257.005371\n",
       "2022-05-04  2289.949951  2243.999268\n",
       "2022-05-05  2262.000000  2218.584473\n",
       "2022-05-06  2208.750000  2188.508545\n",
       "\n",
       "[509 rows x 2 columns]"
      ]
     },
     "execution_count": 57,
     "metadata": {},
     "output_type": "execute_result"
    }
   ],
   "source": [
    "#show the valid and predicted prices\n",
    "valid"
   ]
  },
  {
   "cell_type": "code",
   "execution_count": 58,
   "metadata": {
    "colab": {
     "base_uri": "https://localhost:8080/",
     "height": 34
    },
    "id": "kKUZ9VXNytlx",
    "outputId": "8dd8e4ca-3336-4eab-ff95-9489e5677412"
   },
   "outputs": [
    {
     "name": "stdout",
     "output_type": "stream",
     "text": [
      "[[2154.6506]]\n"
     ]
    }
   ],
   "source": [
    "#Get the quote\n",
    "apple_quote=web.DataReader('TITAN.NS',data_source='yahoo',start='2012-01-01',end='2022-05-08')\n",
    "#create a new dataframe\n",
    "new_df=apple_quote.filter(['Close'])\n",
    "#get the last 60 day closing price values and convert the dataframe to an array\n",
    "last_60_days=new_df[-60:].values\n",
    "#scale the data to be values between 0 and 1\n",
    "last_60_days_scaled=scaler.transform(last_60_days)\n",
    "#create an empty list\n",
    "X_test=[]\n",
    "#append the past 60 days\n",
    "X_test.append(last_60_days_scaled)\n",
    "#convert the X_test data to a numpy array\n",
    "X_test=np.array(X_test)\n",
    "#reshape\n",
    "X_test=np.reshape(X_test,(X_test.shape[0],X_test.shape[1],1))\n",
    "#get the predicted scaled price\n",
    "pred_price=model.predict(X_test)\n",
    "#undo the scaling\n",
    "pred_price=scaler.inverse_transform(pred_price)\n",
    "print(pred_price)"
   ]
  },
  {
   "cell_type": "code",
   "execution_count": 60,
   "metadata": {
    "colab": {
     "base_uri": "https://localhost:8080/",
     "height": 70
    },
    "id": "hl24K-e79ajt",
    "outputId": "65ce25f3-fc54-4425-ee41-a79c85d09c11"
   },
   "outputs": [
    {
     "name": "stdout",
     "output_type": "stream",
     "text": [
      "Date\n",
      "2022-05-05    2262\n",
      "Name: Close, dtype: int64\n"
     ]
    }
   ],
   "source": [
    "#Get the quote\n",
    "\n",
    "apple_quote2=web.DataReader('TITAN.NS',data_source='yahoo',start='2022-05-05',end='2022-05-05')\n",
    "print(apple_quote2['Close'])"
   ]
  },
  {
   "cell_type": "code",
   "execution_count": null,
   "metadata": {
    "id": "WEBSyTDd9anj"
   },
   "outputs": [],
   "source": []
  },
  {
   "cell_type": "code",
   "execution_count": null,
   "metadata": {
    "id": "RDc6BWgI9aqJ"
   },
   "outputs": [],
   "source": []
  },
  {
   "cell_type": "code",
   "execution_count": null,
   "metadata": {
    "id": "I6dhIVvK9av8"
   },
   "outputs": [],
   "source": []
  },
  {
   "cell_type": "code",
   "execution_count": null,
   "metadata": {
    "id": "Pcn87lUC9azy"
   },
   "outputs": [],
   "source": []
  }
 ],
 "metadata": {
  "colab": {
   "name": "Stock Price Prediction Using Python & Machine Learning.ipynb",
   "provenance": []
  },
  "kernelspec": {
   "display_name": "Python 3 (ipykernel)",
   "language": "python",
   "name": "python3"
  },
  "language_info": {
   "codemirror_mode": {
    "name": "ipython",
    "version": 3
   },
   "file_extension": ".py",
   "mimetype": "text/x-python",
   "name": "python",
   "nbconvert_exporter": "python",
   "pygments_lexer": "ipython3",
   "version": "3.8.10"
  }
 },
 "nbformat": 4,
 "nbformat_minor": 1
}
